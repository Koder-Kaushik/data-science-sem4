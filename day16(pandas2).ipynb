{
  "nbformat": 4,
  "nbformat_minor": 0,
  "metadata": {
    "colab": {
      "provenance": []
    },
    "kernelspec": {
      "name": "python3",
      "display_name": "Python 3"
    },
    "language_info": {
      "name": "python"
    }
  },
  "cells": [
    {
      "cell_type": "code",
      "execution_count": 1,
      "metadata": {
        "id": "F8zxmz6HQoI2"
      },
      "outputs": [],
      "source": [
        "# import Package\n",
        "import pandas as pd\n",
        "import numpy as np\n"
      ]
    },
    {
      "cell_type": "code",
      "source": [
        "pd.__version__"
      ],
      "metadata": {
        "colab": {
          "base_uri": "https://localhost:8080/",
          "height": 35
        },
        "id": "Lk_L1FtrbaLt",
        "outputId": "78705ffa-917f-4733-e191-544c289086a4"
      },
      "execution_count": 3,
      "outputs": [
        {
          "output_type": "execute_result",
          "data": {
            "text/plain": [
              "'2.2.2'"
            ],
            "application/vnd.google.colaboratory.intrinsic+json": {
              "type": "string"
            }
          },
          "metadata": {},
          "execution_count": 3
        }
      ]
    },
    {
      "cell_type": "code",
      "source": [
        "number_series = pd.Series([1, 2, 3, 4, 5])\n",
        "print(number_series)"
      ],
      "metadata": {
        "colab": {
          "base_uri": "https://localhost:8080/"
        },
        "id": "mzdBUYG6bkHG",
        "outputId": "66435d7a-77b7-45b4-d67e-ae43a11ce03c"
      },
      "execution_count": 5,
      "outputs": [
        {
          "output_type": "stream",
          "name": "stdout",
          "text": [
            "0    1\n",
            "1    2\n",
            "2    3\n",
            "3    4\n",
            "4    5\n",
            "dtype: int64\n"
          ]
        }
      ]
    },
    {
      "cell_type": "code",
      "source": [
        "number_series= pd.Series([1, 2, 3, 4, 5], index=['a', 'b', 'c', 'd', 'e'],name='Number')\n",
        "print(number_series)"
      ],
      "metadata": {
        "colab": {
          "base_uri": "https://localhost:8080/"
        },
        "id": "5OrrSEyYb7hz",
        "outputId": "e1da809e-f4d1-473c-b666-055b7bedda50"
      },
      "execution_count": 7,
      "outputs": [
        {
          "output_type": "stream",
          "name": "stdout",
          "text": [
            "a    1\n",
            "b    2\n",
            "c    3\n",
            "d    4\n",
            "e    5\n",
            "Name: Number, dtype: int64\n"
          ]
        }
      ]
    },
    {
      "cell_type": "code",
      "source": [
        "print(number_series[0])\n",
        "print(number_series['a'])"
      ],
      "metadata": {
        "colab": {
          "base_uri": "https://localhost:8080/"
        },
        "id": "j1SbXfGYcMrc",
        "outputId": "d7279426-2dd0-4ca6-b55b-0f3490e8aa57"
      },
      "execution_count": 15,
      "outputs": [
        {
          "output_type": "stream",
          "name": "stdout",
          "text": [
            "1\n",
            "1\n"
          ]
        },
        {
          "output_type": "stream",
          "name": "stderr",
          "text": [
            "<ipython-input-15-43cc7e55b50e>:1: FutureWarning: Series.__getitem__ treating keys as positions is deprecated. In a future version, integer keys will always be treated as labels (consistent with DataFrame behavior). To access a value by position, use `ser.iloc[pos]`\n",
            "  print(number_series[0])\n"
          ]
        }
      ]
    },
    {
      "cell_type": "code",
      "source": [
        "some_2D_array = np.random.randint(4,7,(7, 5))\n",
        "print(some_2D_array)"
      ],
      "metadata": {
        "colab": {
          "base_uri": "https://localhost:8080/"
        },
        "id": "qHIEXFnNcYhC",
        "outputId": "f6191497-e82c-4d70-b127-253a92ab5716"
      },
      "execution_count": 16,
      "outputs": [
        {
          "output_type": "stream",
          "name": "stdout",
          "text": [
            "[[4 4 6 5 5]\n",
            " [6 5 4 5 4]\n",
            " [5 6 4 4 6]\n",
            " [4 6 5 4 6]\n",
            " [6 5 4 4 6]\n",
            " [5 6 4 5 4]\n",
            " [6 5 5 4 5]]\n"
          ]
        }
      ]
    },
    {
      "cell_type": "code",
      "source": [
        "first_dataframe = pd.DataFrame(some_2D_array, columns=['Akshay', 'Devashish', 'Divy', 'Monika','Kaushik'])\n",
        "print(first_dataframe)"
      ],
      "metadata": {
        "colab": {
          "base_uri": "https://localhost:8080/"
        },
        "id": "_n1shmU9czoD",
        "outputId": "734ec935-20a0-4748-fc56-715c8549e8ae"
      },
      "execution_count": 17,
      "outputs": [
        {
          "output_type": "stream",
          "name": "stdout",
          "text": [
            "   Akshay  Devashish  Divy  Monika  Kaushik\n",
            "0       4          4     6       5        5\n",
            "1       6          5     4       5        4\n",
            "2       5          6     4       4        6\n",
            "3       4          6     5       4        6\n",
            "4       6          5     4       4        6\n",
            "5       5          6     4       5        4\n",
            "6       6          5     5       4        5\n"
          ]
        }
      ]
    }
  ]
}
day1 contineu 
